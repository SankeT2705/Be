{
 "cells": [
  {
   "cell_type": "code",
   "execution_count": 3,
   "id": "edc75770",
   "metadata": {},
   "outputs": [],
   "source": [
    "import pandas as pd\n",
    "import numpy as np\n",
    "from sklearn import metrics\n",
    "import matplotlib.pyplot as plt\n",
    "import seaborn as sns\n",
    "\n",
    "%matplotlib inline"
   ]
  },
  {
   "cell_type": "code",
   "execution_count": 5,
   "id": "5664f51e",
   "metadata": {},
   "outputs": [],
   "source": [
    "import warnings \n",
    "warnings.filterwarnings(\"ignore\")"
   ]
  },
  {
   "cell_type": "code",
   "execution_count": 21,
   "id": "f1b1ecf5",
   "metadata": {},
   "outputs": [
    {
     "data": {
      "text/plain": [
       "Index(['CRIM', 'ZN', 'INDUS', 'CHAS', 'NOX', 'RM', 'AGE', 'DIS', 'RAD', 'TAX',\n",
       "       'PTRATIO', 'B', 'LSTAT', 'MEDV'],\n",
       "      dtype='object')"
      ]
     },
     "execution_count": 21,
     "metadata": {},
     "output_type": "execute_result"
    }
   ],
   "source": [
    "column_names = ['CRIM', 'ZN', 'INDUS', 'CHAS', 'NOX', 'RM', 'AGE', 'DIS', 'RAD', 'TAX', 'PTRATIO', 'B', 'LSTAT', 'MEDV']\n",
    "df=pd.read_csv(\"housing.csv\", header=None, delimiter=r\"\\s+\", names=column_names)\n",
    "df.columns"
   ]
  },
  {
   "cell_type": "code",
   "execution_count": 22,
   "id": "162a7701",
   "metadata": {},
   "outputs": [],
   "source": [
    "data=pd.DataFrame(df)"
   ]
  },
  {
   "cell_type": "code",
   "execution_count": 23,
   "id": "69cb50db",
   "metadata": {},
   "outputs": [
    {
     "data": {
      "text/html": [
       "<div>\n",
       "<style scoped>\n",
       "    .dataframe tbody tr th:only-of-type {\n",
       "        vertical-align: middle;\n",
       "    }\n",
       "\n",
       "    .dataframe tbody tr th {\n",
       "        vertical-align: top;\n",
       "    }\n",
       "\n",
       "    .dataframe thead th {\n",
       "        text-align: right;\n",
       "    }\n",
       "</style>\n",
       "<table border=\"1\" class=\"dataframe\">\n",
       "  <thead>\n",
       "    <tr style=\"text-align: right;\">\n",
       "      <th></th>\n",
       "      <th>CRIM</th>\n",
       "      <th>ZN</th>\n",
       "      <th>INDUS</th>\n",
       "      <th>CHAS</th>\n",
       "      <th>NOX</th>\n",
       "      <th>RM</th>\n",
       "      <th>AGE</th>\n",
       "      <th>DIS</th>\n",
       "      <th>RAD</th>\n",
       "      <th>TAX</th>\n",
       "      <th>PTRATIO</th>\n",
       "      <th>B</th>\n",
       "      <th>LSTAT</th>\n",
       "      <th>MEDV</th>\n",
       "    </tr>\n",
       "  </thead>\n",
       "  <tbody>\n",
       "    <tr>\n",
       "      <th>0</th>\n",
       "      <td>0.00632</td>\n",
       "      <td>18.0</td>\n",
       "      <td>2.31</td>\n",
       "      <td>0</td>\n",
       "      <td>0.538</td>\n",
       "      <td>6.575</td>\n",
       "      <td>65.2</td>\n",
       "      <td>4.0900</td>\n",
       "      <td>1</td>\n",
       "      <td>296.0</td>\n",
       "      <td>15.3</td>\n",
       "      <td>396.90</td>\n",
       "      <td>4.98</td>\n",
       "      <td>24.0</td>\n",
       "    </tr>\n",
       "    <tr>\n",
       "      <th>1</th>\n",
       "      <td>0.02731</td>\n",
       "      <td>0.0</td>\n",
       "      <td>7.07</td>\n",
       "      <td>0</td>\n",
       "      <td>0.469</td>\n",
       "      <td>6.421</td>\n",
       "      <td>78.9</td>\n",
       "      <td>4.9671</td>\n",
       "      <td>2</td>\n",
       "      <td>242.0</td>\n",
       "      <td>17.8</td>\n",
       "      <td>396.90</td>\n",
       "      <td>9.14</td>\n",
       "      <td>21.6</td>\n",
       "    </tr>\n",
       "    <tr>\n",
       "      <th>2</th>\n",
       "      <td>0.02729</td>\n",
       "      <td>0.0</td>\n",
       "      <td>7.07</td>\n",
       "      <td>0</td>\n",
       "      <td>0.469</td>\n",
       "      <td>7.185</td>\n",
       "      <td>61.1</td>\n",
       "      <td>4.9671</td>\n",
       "      <td>2</td>\n",
       "      <td>242.0</td>\n",
       "      <td>17.8</td>\n",
       "      <td>392.83</td>\n",
       "      <td>4.03</td>\n",
       "      <td>34.7</td>\n",
       "    </tr>\n",
       "    <tr>\n",
       "      <th>3</th>\n",
       "      <td>0.03237</td>\n",
       "      <td>0.0</td>\n",
       "      <td>2.18</td>\n",
       "      <td>0</td>\n",
       "      <td>0.458</td>\n",
       "      <td>6.998</td>\n",
       "      <td>45.8</td>\n",
       "      <td>6.0622</td>\n",
       "      <td>3</td>\n",
       "      <td>222.0</td>\n",
       "      <td>18.7</td>\n",
       "      <td>394.63</td>\n",
       "      <td>2.94</td>\n",
       "      <td>33.4</td>\n",
       "    </tr>\n",
       "    <tr>\n",
       "      <th>4</th>\n",
       "      <td>0.06905</td>\n",
       "      <td>0.0</td>\n",
       "      <td>2.18</td>\n",
       "      <td>0</td>\n",
       "      <td>0.458</td>\n",
       "      <td>7.147</td>\n",
       "      <td>54.2</td>\n",
       "      <td>6.0622</td>\n",
       "      <td>3</td>\n",
       "      <td>222.0</td>\n",
       "      <td>18.7</td>\n",
       "      <td>396.90</td>\n",
       "      <td>5.33</td>\n",
       "      <td>36.2</td>\n",
       "    </tr>\n",
       "  </tbody>\n",
       "</table>\n",
       "</div>"
      ],
      "text/plain": [
       "      CRIM    ZN  INDUS  CHAS    NOX     RM   AGE     DIS  RAD    TAX  \\\n",
       "0  0.00632  18.0   2.31     0  0.538  6.575  65.2  4.0900    1  296.0   \n",
       "1  0.02731   0.0   7.07     0  0.469  6.421  78.9  4.9671    2  242.0   \n",
       "2  0.02729   0.0   7.07     0  0.469  7.185  61.1  4.9671    2  242.0   \n",
       "3  0.03237   0.0   2.18     0  0.458  6.998  45.8  6.0622    3  222.0   \n",
       "4  0.06905   0.0   2.18     0  0.458  7.147  54.2  6.0622    3  222.0   \n",
       "\n",
       "   PTRATIO       B  LSTAT  MEDV  \n",
       "0     15.3  396.90   4.98  24.0  \n",
       "1     17.8  396.90   9.14  21.6  \n",
       "2     17.8  392.83   4.03  34.7  \n",
       "3     18.7  394.63   2.94  33.4  \n",
       "4     18.7  396.90   5.33  36.2  "
      ]
     },
     "execution_count": 23,
     "metadata": {},
     "output_type": "execute_result"
    }
   ],
   "source": [
    "data.head()"
   ]
  },
  {
   "cell_type": "code",
   "execution_count": 24,
   "id": "7c62cac0",
   "metadata": {},
   "outputs": [
    {
     "data": {
      "text/plain": [
       "(506, 14)"
      ]
     },
     "execution_count": 24,
     "metadata": {},
     "output_type": "execute_result"
    }
   ],
   "source": [
    "df.shape"
   ]
  },
  {
   "cell_type": "code",
   "execution_count": 26,
   "id": "a87bc0ea",
   "metadata": {},
   "outputs": [
    {
     "data": {
      "text/plain": [
       "CRIM       0\n",
       "ZN         0\n",
       "INDUS      0\n",
       "CHAS       0\n",
       "NOX        0\n",
       "RM         0\n",
       "AGE        0\n",
       "DIS        0\n",
       "RAD        0\n",
       "TAX        0\n",
       "PTRATIO    0\n",
       "B          0\n",
       "LSTAT      0\n",
       "MEDV       0\n",
       "dtype: int64"
      ]
     },
     "execution_count": 26,
     "metadata": {},
     "output_type": "execute_result"
    }
   ],
   "source": [
    "df.isnull().sum()"
   ]
  },
  {
   "cell_type": "code",
   "execution_count": 28,
   "id": "612bd8db",
   "metadata": {},
   "outputs": [
    {
     "data": {
      "text/plain": [
       "<bound method DataFrame.info of         CRIM    ZN  INDUS  CHAS    NOX     RM   AGE     DIS  RAD    TAX  \\\n",
       "0    0.00632  18.0   2.31     0  0.538  6.575  65.2  4.0900    1  296.0   \n",
       "1    0.02731   0.0   7.07     0  0.469  6.421  78.9  4.9671    2  242.0   \n",
       "2    0.02729   0.0   7.07     0  0.469  7.185  61.1  4.9671    2  242.0   \n",
       "3    0.03237   0.0   2.18     0  0.458  6.998  45.8  6.0622    3  222.0   \n",
       "4    0.06905   0.0   2.18     0  0.458  7.147  54.2  6.0622    3  222.0   \n",
       "..       ...   ...    ...   ...    ...    ...   ...     ...  ...    ...   \n",
       "501  0.06263   0.0  11.93     0  0.573  6.593  69.1  2.4786    1  273.0   \n",
       "502  0.04527   0.0  11.93     0  0.573  6.120  76.7  2.2875    1  273.0   \n",
       "503  0.06076   0.0  11.93     0  0.573  6.976  91.0  2.1675    1  273.0   \n",
       "504  0.10959   0.0  11.93     0  0.573  6.794  89.3  2.3889    1  273.0   \n",
       "505  0.04741   0.0  11.93     0  0.573  6.030  80.8  2.5050    1  273.0   \n",
       "\n",
       "     PTRATIO       B  LSTAT  MEDV  \n",
       "0       15.3  396.90   4.98  24.0  \n",
       "1       17.8  396.90   9.14  21.6  \n",
       "2       17.8  392.83   4.03  34.7  \n",
       "3       18.7  394.63   2.94  33.4  \n",
       "4       18.7  396.90   5.33  36.2  \n",
       "..       ...     ...    ...   ...  \n",
       "501     21.0  391.99   9.67  22.4  \n",
       "502     21.0  396.90   9.08  20.6  \n",
       "503     21.0  396.90   5.64  23.9  \n",
       "504     21.0  393.45   6.48  22.0  \n",
       "505     21.0  396.90   7.88  11.9  \n",
       "\n",
       "[506 rows x 14 columns]>"
      ]
     },
     "execution_count": 28,
     "metadata": {},
     "output_type": "execute_result"
    }
   ],
   "source": [
    "df.info"
   ]
  },
  {
   "cell_type": "code",
   "execution_count": 33,
   "id": "ba2d35b9",
   "metadata": {},
   "outputs": [],
   "source": [
    "def detect_outliers(df):\n",
    "  cols = list(df)\n",
    "  outliers = pd.DataFrame(columns=['Feature', 'Number of Outliers'])\n",
    "  for column in cols:\n",
    "    if column in df.select_dtypes(include=np.number).columns:\n",
    "      q1 = df[column].quantile(0.25)\n",
    "      q3 = df[column].quantile(0.75)\n",
    "      iqr = q3 - q1\n",
    "      fence_low = q1 - (1.5*iqr)\n",
    "      fence_high = q3 + (1.5*iqr)\n",
    "      outliers = pd.concat([outliers, pd.DataFrame({'Feature': [column], 'Number of Outliers': [df.loc[(df[column] < fence_low) | (df[column] > fence_high)].shape[0]]})], ignore_index=True)\n",
    "  return outliers"
   ]
  },
  {
   "cell_type": "code",
   "execution_count": 36,
   "id": "65b08c50",
   "metadata": {},
   "outputs": [
    {
     "data": {
      "text/html": [
       "<div>\n",
       "<style scoped>\n",
       "    .dataframe tbody tr th:only-of-type {\n",
       "        vertical-align: middle;\n",
       "    }\n",
       "\n",
       "    .dataframe tbody tr th {\n",
       "        vertical-align: top;\n",
       "    }\n",
       "\n",
       "    .dataframe thead th {\n",
       "        text-align: right;\n",
       "    }\n",
       "</style>\n",
       "<table border=\"1\" class=\"dataframe\">\n",
       "  <thead>\n",
       "    <tr style=\"text-align: right;\">\n",
       "      <th></th>\n",
       "      <th>Feature</th>\n",
       "      <th>Number of Outliers</th>\n",
       "    </tr>\n",
       "  </thead>\n",
       "  <tbody>\n",
       "    <tr>\n",
       "      <th>0</th>\n",
       "      <td>CRIM</td>\n",
       "      <td>66</td>\n",
       "    </tr>\n",
       "    <tr>\n",
       "      <th>1</th>\n",
       "      <td>ZN</td>\n",
       "      <td>68</td>\n",
       "    </tr>\n",
       "    <tr>\n",
       "      <th>2</th>\n",
       "      <td>INDUS</td>\n",
       "      <td>0</td>\n",
       "    </tr>\n",
       "    <tr>\n",
       "      <th>3</th>\n",
       "      <td>CHAS</td>\n",
       "      <td>35</td>\n",
       "    </tr>\n",
       "    <tr>\n",
       "      <th>4</th>\n",
       "      <td>NOX</td>\n",
       "      <td>0</td>\n",
       "    </tr>\n",
       "    <tr>\n",
       "      <th>5</th>\n",
       "      <td>RM</td>\n",
       "      <td>30</td>\n",
       "    </tr>\n",
       "    <tr>\n",
       "      <th>6</th>\n",
       "      <td>AGE</td>\n",
       "      <td>0</td>\n",
       "    </tr>\n",
       "    <tr>\n",
       "      <th>7</th>\n",
       "      <td>DIS</td>\n",
       "      <td>5</td>\n",
       "    </tr>\n",
       "    <tr>\n",
       "      <th>8</th>\n",
       "      <td>RAD</td>\n",
       "      <td>0</td>\n",
       "    </tr>\n",
       "    <tr>\n",
       "      <th>9</th>\n",
       "      <td>TAX</td>\n",
       "      <td>0</td>\n",
       "    </tr>\n",
       "    <tr>\n",
       "      <th>10</th>\n",
       "      <td>PTRATIO</td>\n",
       "      <td>15</td>\n",
       "    </tr>\n",
       "    <tr>\n",
       "      <th>11</th>\n",
       "      <td>B</td>\n",
       "      <td>77</td>\n",
       "    </tr>\n",
       "    <tr>\n",
       "      <th>12</th>\n",
       "      <td>LSTAT</td>\n",
       "      <td>7</td>\n",
       "    </tr>\n",
       "    <tr>\n",
       "      <th>13</th>\n",
       "      <td>MEDV</td>\n",
       "      <td>40</td>\n",
       "    </tr>\n",
       "  </tbody>\n",
       "</table>\n",
       "</div>"
      ],
      "text/plain": [
       "    Feature Number of Outliers\n",
       "0      CRIM                 66\n",
       "1        ZN                 68\n",
       "2     INDUS                  0\n",
       "3      CHAS                 35\n",
       "4       NOX                  0\n",
       "5        RM                 30\n",
       "6       AGE                  0\n",
       "7       DIS                  5\n",
       "8       RAD                  0\n",
       "9       TAX                  0\n",
       "10  PTRATIO                 15\n",
       "11        B                 77\n",
       "12    LSTAT                  7\n",
       "13     MEDV                 40"
      ]
     },
     "execution_count": 36,
     "metadata": {},
     "output_type": "execute_result"
    }
   ],
   "source": [
    "detect_outliers(data)"
   ]
  },
  {
   "cell_type": "code",
   "execution_count": 37,
   "id": "327f0e9c",
   "metadata": {},
   "outputs": [],
   "source": [
    "from scipy.stats.mstats import winsorize"
   ]
  },
  {
   "cell_type": "code",
   "execution_count": 38,
   "id": "ac17d8f3",
   "metadata": {},
   "outputs": [
    {
     "data": {
      "text/html": [
       "<div>\n",
       "<style scoped>\n",
       "    .dataframe tbody tr th:only-of-type {\n",
       "        vertical-align: middle;\n",
       "    }\n",
       "\n",
       "    .dataframe tbody tr th {\n",
       "        vertical-align: top;\n",
       "    }\n",
       "\n",
       "    .dataframe thead th {\n",
       "        text-align: right;\n",
       "    }\n",
       "</style>\n",
       "<table border=\"1\" class=\"dataframe\">\n",
       "  <thead>\n",
       "    <tr style=\"text-align: right;\">\n",
       "      <th></th>\n",
       "      <th>Feature</th>\n",
       "      <th>Number of Outliers</th>\n",
       "    </tr>\n",
       "  </thead>\n",
       "  <tbody>\n",
       "    <tr>\n",
       "      <th>0</th>\n",
       "      <td>CRIM</td>\n",
       "      <td>66</td>\n",
       "    </tr>\n",
       "    <tr>\n",
       "      <th>1</th>\n",
       "      <td>ZN</td>\n",
       "      <td>68</td>\n",
       "    </tr>\n",
       "    <tr>\n",
       "      <th>2</th>\n",
       "      <td>INDUS</td>\n",
       "      <td>0</td>\n",
       "    </tr>\n",
       "    <tr>\n",
       "      <th>3</th>\n",
       "      <td>CHAS</td>\n",
       "      <td>0</td>\n",
       "    </tr>\n",
       "    <tr>\n",
       "      <th>4</th>\n",
       "      <td>NOX</td>\n",
       "      <td>0</td>\n",
       "    </tr>\n",
       "    <tr>\n",
       "      <th>5</th>\n",
       "      <td>RM</td>\n",
       "      <td>0</td>\n",
       "    </tr>\n",
       "    <tr>\n",
       "      <th>6</th>\n",
       "      <td>AGE</td>\n",
       "      <td>0</td>\n",
       "    </tr>\n",
       "    <tr>\n",
       "      <th>7</th>\n",
       "      <td>DIS</td>\n",
       "      <td>0</td>\n",
       "    </tr>\n",
       "    <tr>\n",
       "      <th>8</th>\n",
       "      <td>RAD</td>\n",
       "      <td>0</td>\n",
       "    </tr>\n",
       "    <tr>\n",
       "      <th>9</th>\n",
       "      <td>TAX</td>\n",
       "      <td>0</td>\n",
       "    </tr>\n",
       "    <tr>\n",
       "      <th>10</th>\n",
       "      <td>PTRATIO</td>\n",
       "      <td>0</td>\n",
       "    </tr>\n",
       "    <tr>\n",
       "      <th>11</th>\n",
       "      <td>B</td>\n",
       "      <td>77</td>\n",
       "    </tr>\n",
       "    <tr>\n",
       "      <th>12</th>\n",
       "      <td>LSTAT</td>\n",
       "      <td>0</td>\n",
       "    </tr>\n",
       "    <tr>\n",
       "      <th>13</th>\n",
       "      <td>MEDV</td>\n",
       "      <td>0</td>\n",
       "    </tr>\n",
       "  </tbody>\n",
       "</table>\n",
       "</div>"
      ],
      "text/plain": [
       "    Feature Number of Outliers\n",
       "0      CRIM                 66\n",
       "1        ZN                 68\n",
       "2     INDUS                  0\n",
       "3      CHAS                  0\n",
       "4       NOX                  0\n",
       "5        RM                  0\n",
       "6       AGE                  0\n",
       "7       DIS                  0\n",
       "8       RAD                  0\n",
       "9       TAX                  0\n",
       "10  PTRATIO                  0\n",
       "11        B                 77\n",
       "12    LSTAT                  0\n",
       "13     MEDV                  0"
      ]
     },
     "execution_count": 38,
     "metadata": {},
     "output_type": "execute_result"
    }
   ],
   "source": [
    "# Function to treat outliers \n",
    "\n",
    "def treat_outliers(dataframe):\n",
    "    cols = list(dataframe)\n",
    "    for col in cols:\n",
    "        if col in dataframe.select_dtypes(include=np.number).columns:\n",
    "            dataframe[col] = winsorize(dataframe[col], limits=[0.05, 0.1],inclusive=(True, True))\n",
    "    \n",
    "    return dataframe    \n",
    "\n",
    "\n",
    "df = treat_outliers(df)\n",
    "\n",
    "# Checking for outliers after applying winsorization\n",
    "# We see this using a fuction called 'detect_outliers', defined above.\n",
    "\n",
    "detect_outliers(df)"
   ]
  },
  {
   "cell_type": "code",
   "execution_count": 43,
   "id": "77609dd5",
   "metadata": {},
   "outputs": [],
   "source": [
    "x = df.iloc[:,:-1]\n",
    "\n",
    "y = df.iloc[:,-1]\n",
    "from sklearn.preprocessing import MinMaxScaler\n",
    "from sklearn.linear_model import LinearRegression\n",
    "from sklearn.model_selection import train_test_split\n",
    "from sklearn import metrics\n",
    "x= x[['CRIM','DIS','RM','LSTAT']]\n",
    "x.head(2)\n",
    "mms= MinMaxScaler()\n",
    "x = pd.DataFrame(mms.fit_transform(x), columns=x.columns)"
   ]
  },
  {
   "cell_type": "code",
   "execution_count": 45,
   "id": "5cab515f",
   "metadata": {},
   "outputs": [
    {
     "data": {
      "text/html": [
       "<div>\n",
       "<style scoped>\n",
       "    .dataframe tbody tr th:only-of-type {\n",
       "        vertical-align: middle;\n",
       "    }\n",
       "\n",
       "    .dataframe tbody tr th {\n",
       "        vertical-align: top;\n",
       "    }\n",
       "\n",
       "    .dataframe thead th {\n",
       "        text-align: right;\n",
       "    }\n",
       "</style>\n",
       "<table border=\"1\" class=\"dataframe\">\n",
       "  <thead>\n",
       "    <tr style=\"text-align: right;\">\n",
       "      <th></th>\n",
       "      <th>CRIM</th>\n",
       "      <th>DIS</th>\n",
       "      <th>RM</th>\n",
       "      <th>LSTAT</th>\n",
       "    </tr>\n",
       "  </thead>\n",
       "  <tbody>\n",
       "    <tr>\n",
       "      <th>0</th>\n",
       "      <td>0.000000</td>\n",
       "      <td>0.490733</td>\n",
       "      <td>0.686656</td>\n",
       "      <td>0.066013</td>\n",
       "    </tr>\n",
       "    <tr>\n",
       "      <th>1</th>\n",
       "      <td>0.000000</td>\n",
       "      <td>0.654441</td>\n",
       "      <td>0.603458</td>\n",
       "      <td>0.280557</td>\n",
       "    </tr>\n",
       "    <tr>\n",
       "      <th>2</th>\n",
       "      <td>0.000000</td>\n",
       "      <td>0.654441</td>\n",
       "      <td>1.000000</td>\n",
       "      <td>0.017019</td>\n",
       "    </tr>\n",
       "    <tr>\n",
       "      <th>3</th>\n",
       "      <td>0.000439</td>\n",
       "      <td>0.858839</td>\n",
       "      <td>0.915181</td>\n",
       "      <td>0.000000</td>\n",
       "    </tr>\n",
       "    <tr>\n",
       "      <th>4</th>\n",
       "      <td>0.003833</td>\n",
       "      <td>0.858839</td>\n",
       "      <td>0.995678</td>\n",
       "      <td>0.084064</td>\n",
       "    </tr>\n",
       "  </tbody>\n",
       "</table>\n",
       "</div>"
      ],
      "text/plain": [
       "       CRIM       DIS        RM     LSTAT\n",
       "0  0.000000  0.490733  0.686656  0.066013\n",
       "1  0.000000  0.654441  0.603458  0.280557\n",
       "2  0.000000  0.654441  1.000000  0.017019\n",
       "3  0.000439  0.858839  0.915181  0.000000\n",
       "4  0.003833  0.858839  0.995678  0.084064"
      ]
     },
     "execution_count": 45,
     "metadata": {},
     "output_type": "execute_result"
    }
   ],
   "source": [
    "x.head()"
   ]
  },
  {
   "cell_type": "code",
   "execution_count": 46,
   "id": "34931fc6",
   "metadata": {},
   "outputs": [],
   "source": [
    "xtrain,xtest,ytrain,ytest= train_test_split(x,y,test_size=0.3,random_state=42)"
   ]
  },
  {
   "cell_type": "code",
   "execution_count": 47,
   "id": "f8930ccf",
   "metadata": {},
   "outputs": [],
   "source": [
    "lr=LinearRegression()\n",
    "\n",
    "lr.fit(xtrain, ytrain)\n",
    "\n",
    "coefficients=pd.DataFrame([xtrain.columns, lr.coef_]).T\n",
    "coefficients=coefficients.rename(columns={0:'Attributes',1:'Coefficients'})"
   ]
  },
  {
   "cell_type": "code",
   "execution_count": 49,
   "id": "9104dede",
   "metadata": {},
   "outputs": [
    {
     "data": {
      "text/html": [
       "<div>\n",
       "<style scoped>\n",
       "    .dataframe tbody tr th:only-of-type {\n",
       "        vertical-align: middle;\n",
       "    }\n",
       "\n",
       "    .dataframe tbody tr th {\n",
       "        vertical-align: top;\n",
       "    }\n",
       "\n",
       "    .dataframe thead th {\n",
       "        text-align: right;\n",
       "    }\n",
       "</style>\n",
       "<table border=\"1\" class=\"dataframe\">\n",
       "  <thead>\n",
       "    <tr style=\"text-align: right;\">\n",
       "      <th></th>\n",
       "      <th>Attributes</th>\n",
       "      <th>Coefficients</th>\n",
       "    </tr>\n",
       "  </thead>\n",
       "  <tbody>\n",
       "    <tr>\n",
       "      <th>0</th>\n",
       "      <td>CRIM</td>\n",
       "      <td>-3.877522</td>\n",
       "    </tr>\n",
       "    <tr>\n",
       "      <th>1</th>\n",
       "      <td>DIS</td>\n",
       "      <td>-2.6488</td>\n",
       "    </tr>\n",
       "    <tr>\n",
       "      <th>2</th>\n",
       "      <td>RM</td>\n",
       "      <td>7.640161</td>\n",
       "    </tr>\n",
       "    <tr>\n",
       "      <th>3</th>\n",
       "      <td>LSTAT</td>\n",
       "      <td>-13.810714</td>\n",
       "    </tr>\n",
       "  </tbody>\n",
       "</table>\n",
       "</div>"
      ],
      "text/plain": [
       "  Attributes Coefficients\n",
       "0       CRIM    -3.877522\n",
       "1        DIS      -2.6488\n",
       "2         RM     7.640161\n",
       "3      LSTAT   -13.810714"
      ]
     },
     "execution_count": 49,
     "metadata": {},
     "output_type": "execute_result"
    }
   ],
   "source": [
    "coefficients"
   ]
  },
  {
   "cell_type": "code",
   "execution_count": 50,
   "id": "d41fdaf9",
   "metadata": {},
   "outputs": [],
   "source": [
    "y_pred=lr.predict(xtrain)"
   ]
  },
  {
   "cell_type": "code",
   "execution_count": 51,
   "id": "61544ae9",
   "metadata": {},
   "outputs": [
    {
     "data": {
      "text/plain": [
       "array([27.30793235, 23.0056512 , 21.08390846, 24.69455997, 13.70771982,\n",
       "       25.47135921, 30.72700895,  9.96593791, 21.87390623, 18.39190894,\n",
       "       22.38520952, 26.60061016, 21.73711479, 24.04545944, 31.49161262,\n",
       "       15.42851928, 18.37549955, 16.3281837 , 21.58985795, 24.22006249,\n",
       "       23.41230807, 31.50763839, 21.11497084, 19.50428255, 24.69038933,\n",
       "       29.1365772 , 31.14910946, 26.98872883, 11.21326769,  8.32323431,\n",
       "       10.19869036, 16.31864364, 30.27202788, 27.71775889, 19.36234269,\n",
       "       11.62629568, 29.65750356, 22.74555787, 20.6692342 , 23.79873822,\n",
       "       18.46734505, 15.37139891, 11.07909337, 28.88632523, 27.10349291,\n",
       "       20.76846323, 18.44358996, 14.76632174, 26.43663672, 19.54606676,\n",
       "       26.96572374, 30.07492447, 24.90918901, 23.82829352, 23.50331321,\n",
       "       32.76983721, 29.6459353 , 31.29847782, 26.41922663, 26.90705546,\n",
       "       18.59602393, 30.88036667, 20.03151196, 27.7704069 , 25.37132031,\n",
       "       20.81021035, 21.81059728, 10.754035  , 32.45144206, 30.5985619 ,\n",
       "       31.41574031,  8.32007021, 18.05685523, 21.76361673, 30.72769601,\n",
       "       18.70633385, 24.26384689, 22.51361313, 24.64398766, 12.76451667,\n",
       "       21.97533995, 26.60650292, 30.93841421, 24.56639873, 20.66715401,\n",
       "       31.06298134, 31.16973705, 29.72788789, 26.59372296, 21.31812434,\n",
       "       27.41222005, 13.45891271, 19.15283672, 24.55879359, 16.02369657,\n",
       "        8.32323431, 21.8264098 , 26.97814433, 22.93134271, 17.9172949 ,\n",
       "       21.25192202, 13.0897935 , 29.78149829, 26.28815325, 28.91942845,\n",
       "       16.15367197, 17.33411651, 17.19100046, 11.3607823 , 14.12020079,\n",
       "       24.42382435, 14.19605226, 11.95736076, 23.07825038, 11.41740012,\n",
       "       26.41028617, 30.99717379, 32.24914921, 28.67054578, 18.25484994,\n",
       "       29.08650643, 31.2740062 , 22.68029169, 19.52317861, 25.19282178,\n",
       "       21.74062664, 19.43816076, 10.89483689, 20.61065931, 20.59948198,\n",
       "       26.74810866, 27.55116786, 15.90388852, 24.60883516, 16.39554874,\n",
       "       14.0589862 , 31.79691254, 18.88372776, 19.3796238 , 21.81834277,\n",
       "       21.38668059, 16.92761078, 22.13149464, 30.74162912, 10.74985903,\n",
       "       19.13918515, 31.28762549, 18.18478052, 25.21138833, 26.29921988,\n",
       "       20.41069479, 15.60543329, 32.28128555, 26.06890506, 21.35642207,\n",
       "       18.8869791 , 27.30068553, 30.29586238, 32.27966106, 19.45014017,\n",
       "       20.3390534 , 22.82745079, 32.52624875,  8.32323431, 23.10159739,\n",
       "       17.76373415, 24.87873124, 12.80255345, 21.64385588,  8.32323431,\n",
       "       16.4385575 , 19.47233929, 15.25026767, 22.86209069, 16.90605214,\n",
       "       26.84097218, 31.46434681, 27.98653796, 22.32994653, 32.24780126,\n",
       "       10.54488237, 27.70886292, 17.87546475, 23.39620274, 22.6982614 ,\n",
       "       19.8253173 , 11.4276704 , 15.19994454, 28.55093752, 15.99038882,\n",
       "       28.32318104, 22.62512665, 24.67552001, 13.87483726,  9.81273227,\n",
       "       29.40750816, 29.10856689, 10.94240169, 16.12931927, 23.54841709,\n",
       "       31.78504392, 24.62968795, 14.24646806, 30.16787483, 31.24132695,\n",
       "       20.92378393, 27.11636028, 32.65682291, 17.02278143, 25.11761003,\n",
       "       15.52856968, 21.17675189, 32.62638092, 28.96188828, 24.23625093,\n",
       "       18.39376703, 16.09004441, 13.12864995, 30.31516908, 20.72048323,\n",
       "       30.3860862 , 19.21022323, 17.59323891, 18.25600397, 21.86766398,\n",
       "       28.9505423 , 24.75129247, 32.71687092, 13.05019711, 15.56155944,\n",
       "       25.92985126, 20.31092036, 22.05621354, 27.89560338, 11.19986578,\n",
       "       26.37270017, 15.27073394, 27.69399635, 28.13660818, 22.90538483,\n",
       "       16.14672372, 31.16073044, 13.04954582, 18.54158824, 17.38438601,\n",
       "       20.611878  , 30.04605566, 10.14778765, 29.69323936, 21.50997568,\n",
       "       25.82377689, 16.24921567, 18.15386236, 27.59121646, 19.85595882,\n",
       "       27.97644959, 20.98889767, 19.42042747, 30.09253014, 26.62166427,\n",
       "       20.22989728, 24.51613794, 32.88428681, 24.93791809, 26.28334101,\n",
       "       14.52874067, 29.30846887, 23.37573352, 29.58290172, 18.81660704,\n",
       "       22.852148  , 11.10401518, 25.01380806, 17.70754901, 16.1803138 ,\n",
       "       15.98180542, 14.68172452, 28.79983695, 22.06006276, 15.72312872,\n",
       "       17.06198059, 27.68233942, 17.93507677, 17.21448719, 26.5400797 ,\n",
       "       22.85359614, 19.00715293, 27.21185749, 21.42726805, 30.09821459,\n",
       "       20.64126402, 23.60466877, 20.80177479, 30.77883579,  8.29475738,\n",
       "       30.09407293, 32.65099855, 22.00388718, 21.85094472, 17.40943146,\n",
       "       30.85165491, 18.25731994, 21.50199573, 26.76048575, 17.86709944,\n",
       "       18.55442719, 19.11817418, 20.77483834, 23.43747506, 12.88827336,\n",
       "       30.89226536, 25.13258148, 23.56626952, 28.82032281, 23.85078259,\n",
       "       24.53772602, 10.3318301 , 29.36836808, 22.933303  , 30.16598671,\n",
       "       19.96736809, 26.0130824 , 18.33202324, 28.02017508, 30.30562929,\n",
       "       16.2733236 , 28.73318668,  8.32323431, 23.91462549, 10.40355711,\n",
       "       27.16671379, 32.26251806, 29.82208048, 13.57509296, 23.99832962,\n",
       "       19.00913286, 20.92022772, 30.85761586, 21.72234658, 24.86127945,\n",
       "       17.7766515 , 23.45152372, 11.50113419, 17.06422428, 20.99223321,\n",
       "       25.50751237, 13.17838746, 28.99591456, 22.38269143, 17.12953558,\n",
       "       20.10100366, 27.22541344, 13.46405924, 24.92789876])"
      ]
     },
     "execution_count": 51,
     "metadata": {},
     "output_type": "execute_result"
    }
   ],
   "source": [
    "y_pred"
   ]
  },
  {
   "cell_type": "code",
   "execution_count": 52,
   "id": "624587cc",
   "metadata": {},
   "outputs": [
    {
     "name": "stdout",
     "output_type": "stream",
     "text": [
      "R^2:  0.7642226556723264\n",
      "Adusted R^2:  0.761520336539631\n",
      "MAE:  2.7496074868748015\n",
      "MSE:  12.146464209933594\n",
      "RMSE:  3.4851777874211227\n"
     ]
    }
   ],
   "source": [
    "print(\"R^2: \",metrics.r2_score(ytrain, y_pred))\n",
    "print(\"Adusted R^2: \", 1-(1-metrics.r2_score(ytrain, y_pred))*(len(ytrain)-1)/(len(ytrain)-xtrain.shape[1]-1))\n",
    "print(\"MAE: \", metrics.mean_absolute_error(ytrain, y_pred))\n",
    "print(\"MSE: \", metrics.mean_squared_error(ytrain, y_pred))\n",
    "print(\"RMSE: \",np.sqrt(metrics.mean_squared_error(ytrain, y_pred)))"
   ]
  },
  {
   "cell_type": "code",
   "execution_count": 53,
   "id": "fc03f94f",
   "metadata": {},
   "outputs": [
    {
     "name": "stdout",
     "output_type": "stream",
     "text": [
      "13.607512374416215\n"
     ]
    }
   ],
   "source": [
    "print(metrics.max_error(ytrain, y_pred))"
   ]
  },
  {
   "cell_type": "code",
   "execution_count": 55,
   "id": "4f7f9cbd",
   "metadata": {},
   "outputs": [
    {
     "data": {
      "image/png": "[encoded data removed]",
      "text/plain": [
       "<Figure size 640x480 with 1 Axes>"
      ]
     },
     "metadata": {},
     "output_type": "display_data"
    }
   ],
   "source": [
    "\n",
    "plt.scatter(ytrain, y_pred)\n",
    "plt.xlabel(\"Actual Price\")\n",
    "plt.ylabel(\"Predicted Price\")\n",
    "plt.title(\"Predicted Vs Actual Prices\", fontsize=15)\n",
    "plt.show()"
   ]
  },
  {
   "cell_type": "code",
   "execution_count": 56,
   "id": "fe61f0f0",
   "metadata": {},
   "outputs": [
    {
     "name": "stdout",
     "output_type": "stream",
     "text": [
      "R^2:  0.6997582362305644\n",
      "Adusted R^2:  0.6915883923184709\n",
      "MAE:  2.9529104957019094\n",
      "MSE:  13.294449553609889\n",
      "RMSE:  3.6461554483606275\n"
     ]
    }
   ],
   "source": [
    "ytest_pred=lr.predict(xtest)\n",
    "\n",
    "lin_acc=metrics.r2_score(ytest, ytest_pred)\n",
    "print(\"R^2: \",lin_acc)\n",
    "print(\"Adusted R^2: \", 1-(1-metrics.r2_score(ytest, ytest_pred))*(len(ytest)-1)/(len(ytest)-xtest.shape[1]-1))\n",
    "print(\"MAE: \", metrics.mean_absolute_error(ytest, ytest_pred))\n",
    "print(\"MSE: \", metrics.mean_squared_error(ytest, ytest_pred))\n",
    "print(\"RMSE: \",np.sqrt(metrics.mean_squared_error(ytest, ytest_pred)))"
   ]
  },
  {
   "cell_type": "code",
   "execution_count": 57,
   "id": "be3f8188",
   "metadata": {},
   "outputs": [
    {
     "name": "stdout",
     "output_type": "stream",
     "text": [
      "12.579386511503579\n"
     ]
    }
   ],
   "source": [
    "print(metrics.max_error(ytest, ytest_pred))"
   ]
  },
  {
   "cell_type": "code",
   "execution_count": 58,
   "id": "f8fe6c9f",
   "metadata": {},
   "outputs": [
    {
     "data": {
      "image/png": "[encoded data removed]",
      "text/plain": [
       "<Figure size 640x480 with 1 Axes>"
      ]
     },
     "metadata": {},
     "output_type": "display_data"
    }
   ],
   "source": [
    "plt.scatter(ytest, ytest_pred)\n",
    "plt.xlabel(\"Actual Price\")\n",
    "plt.ylabel(\"Predicted Price\")\n",
    "plt.title(\"Predicted Vs Actual Prices\", fontsize=15)\n",
    "plt.show()\n"
   ]
  },
  {
   "cell_type": "code",
   "execution_count": null,
   "id": "ea969a33",
   "metadata": {},
   "outputs": [],
   "source": []
  }
 ],
 "metadata": {
  "kernelspec": {
   "display_name": "Python 3 (ipykernel)",
   "language": "python",
   "name": "python3"
  },
  "language_info": {
   "codemirror_mode": {
    "name": "ipython",
    "version": 3
   },
   "file_extension": ".py",
   "mimetype": "text/x-python",
   "name": "python",
   "nbconvert_exporter": "python",
   "pygments_lexer": "ipython3",
   "version": "3.11.3"
  }
 },
 "nbformat": 4,
 "nbformat_minor": 5
}
